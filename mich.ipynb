{
 "cells": [
  {
   "cell_type": "code",
   "execution_count": 18,
   "metadata": {},
   "outputs": [
    {
     "data": {
      "image/png": "[encoded data removed]",
      "text/plain": [
       "<Figure size 800x600 with 1 Axes>"
      ]
     },
     "metadata": {},
     "output_type": "display_data"
    },
    {
     "name": "stderr",
     "output_type": "stream",
     "text": [
      "100%|██████████| 5572/5572 [00:00<00:00, 1106460.65it/s]\n"
     ]
    },
    {
     "data": {
      "text/plain": [
       "(0.9838565022421525,\n",
       " {'ham': {'precision': 0.9836567926455567,\n",
       "   'recall': 0.9979274611398964,\n",
       "   'f1-score': 0.9907407407407408,\n",
       "   'support': 965.0},\n",
       "  'spam': {'precision': 0.9852941176470589,\n",
       "   'recall': 0.8933333333333333,\n",
       "   'f1-score': 0.9370629370629371,\n",
       "   'support': 150.0},\n",
       "  'accuracy': 0.9838565022421525,\n",
       "  'macro avg': {'precision': 0.9844754551463077,\n",
       "   'recall': 0.9456303972366149,\n",
       "   'f1-score': 0.963901838901839,\n",
       "   'support': 1115.0},\n",
       "  'weighted avg': {'precision': 0.9838770605829786,\n",
       "   'recall': 0.9838565022421525,\n",
       "   'f1-score': 0.9835195115464174,\n",
       "   'support': 1115.0}})"
      ]
     },
     "execution_count": 18,
     "metadata": {},
     "output_type": "execute_result"
    }
   ],
   "source": [
    "from sklearn.model_selection import train_test_split\n",
    "from sklearn.feature_extraction.text import CountVectorizer\n",
    "from sklearn.naive_bayes import MultinomialNB\n",
    "from sklearn.metrics import accuracy_score, classification_report\n",
    "from sklearn.pipeline import Pipeline\n",
    "import numpy as np\n",
    "from tqdm import tqdm\n",
    "import pandas as pd\n",
    "import tkinter as tk\n",
    "from tkinter import Label, Entry, Button, StringVar\n",
    "\n",
    "df = pd.read_csv('spam.csv', encoding='ISO-8859-1')\n",
    "\n",
    "df.head()\n",
    "\n",
    "\n",
    "spam_counts = df['v1'].value_counts()\n",
    "\n",
    "\n",
    "plt.figure(figsize=(8, 6))\n",
    "spam_counts.plot(kind='bar')\n",
    "plt.title('Distribution of Spam and Non-Spam Messages')\n",
    "plt.xlabel('Message Type')\n",
    "plt.ylabel('Frequency')\n",
    "plt.xticks(rotation=0)\n",
    "plt.show()\n",
    "\n",
    "spam_distribution = df['v1'].value_counts()\n",
    "\n",
    "\n",
    "spam_distribution\n",
    "\n",
    "\n",
    "\n",
    "tqdm.pandas()\n",
    "df['processed_text'] = df['v2'].progress_apply(lambda x: x.lower())\n",
    "\n",
    "\n",
    "X_train, X_test, y_train, y_test = train_test_split(df['processed_text'], df['v1'], test_size=0.2, random_state=42)\n",
    "\n",
    "\n",
    "pipeline = Pipeline([\n",
    "    ('vect', CountVectorizer()),\n",
    "    ('clf', MultinomialNB())\n",
    "])\n",
    "\n",
    "\n",
    "pipeline.fit(X_train, y_train)\n",
    "\n",
    "\n",
    "y_pred = pipeline.predict(X_test)\n",
    "\n",
    "\n",
    "accuracy = accuracy_score(y_test, y_pred)\n",
    "\n",
    "\n",
    "report = classification_report(y_test, y_pred, output_dict=True)\n",
    "\n",
    "\n",
    "accuracy, report"
   ]
  },
  {
   "cell_type": "code",
   "execution_count": 19,
   "metadata": {},
   "outputs": [
    {
     "name": "stdout",
     "output_type": "stream",
     "text": [
      "Model Accuracy: 0.97847533632287\n"
     ]
    }
   ],
   "source": [
    "\n",
    "data = pd.read_csv('spam.csv', encoding='latin-1')\n",
    "data = data[['v1', 'v2']] \n",
    "\n",
    "\n",
    "vectorizer = CountVectorizer()\n",
    "X = vectorizer.fit_transform(data['v2'])\n",
    "y = data['v1']\n",
    "\n",
    "\n",
    "X_train, X_test, y_train, y_test = train_test_split(X, y, test_size=0.2, random_state=42)\n",
    "model = MultinomialNB()\n",
    "model.fit(X_train, y_train)\n",
    "\n",
    "y_pred = model.predict(X_test)\n",
    "accuracy = accuracy_score(y_test, y_pred)\n",
    "print(\"Model Accuracy:\", accuracy)\n",
    "\n"
   ]
  },
  {
   "cell_type": "code",
   "execution_count": 20,
   "metadata": {},
   "outputs": [],
   "source": [
    "\n",
    "data = pd.read_csv('spam.csv', encoding='latin-1')\n",
    "data = data[['v1', 'v2']]  \n",
    "\n",
    "\n",
    "vectorizer = CountVectorizer()\n",
    "X = vectorizer.fit_transform(data['v2'])\n",
    "y = data['v1']\n",
    "\n",
    "\n",
    "X_train, X_test, y_train, y_test = train_test_split(X, y, test_size=0.2, random_state=42)\n",
    "model = MultinomialNB()\n",
    "model.fit(X_train, y_train)\n",
    "\n",
    "\n",
    "class EmailSpamDetectorApp:\n",
    "    def __init__(self, root):\n",
    "        self.root = root\n",
    "        self.root.title(\"Email Spam Detector\")\n",
    "\n",
    "        self.message_var = StringVar()\n",
    "        self.prediction_var = StringVar()\n",
    "\n",
    "        Label(root, text=\"Enter your message:\").pack(pady=10)\n",
    "        Entry(root, textvariable=self.message_var, width=40).pack(pady=10)\n",
    "\n",
    "        Button(root, text=\"Predict\", command=self.predict_spam).pack(pady=10)\n",
    "\n",
    "        Label(root, textvariable=self.prediction_var).pack(pady=10)\n",
    "\n",
    "    def predict_spam(self):\n",
    "        message = self.message_var.get()\n",
    "        message_vectorized = vectorizer.transform([message])\n",
    "        prediction = model.predict(message_vectorized)[0]\n",
    "        self.prediction_var.set(f\"Prediction: {prediction}\")\n",
    "\n",
    "if __name__ == \"__main__\":\n",
    "    root = tk.Tk()\n",
    "    app = EmailSpamDetectorApp(root)\n",
    "    root.mainloop()\n"
   ]
  }
 ],
 "metadata": {
  "kernelspec": {
   "display_name": "Python 3",
   "language": "python",
   "name": "python3"
  },
  "language_info": {
   "codemirror_mode": {
    "name": "ipython",
    "version": 3
   },
   "file_extension": ".py",
   "mimetype": "text/x-python",
   "name": "python",
   "nbconvert_exporter": "python",
   "pygments_lexer": "ipython3",
   "version": "3.11.5"
  }
 },
 "nbformat": 4,
 "nbformat_minor": 2
}
